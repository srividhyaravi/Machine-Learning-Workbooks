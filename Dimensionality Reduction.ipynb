{
 "cells": [
  {
   "cell_type": "markdown",
   "metadata": {},
   "source": [
    "<a href=\"https://www.bigdatauniversity.com\"><img src = \"https://ibm.box.com/shared/static/cw2c7r3o20w9zn8gkecaeyjhgw3xdgbj.png\" width = 400, align = \"center\"></a>\n",
    "\n",
    "# <center>Dimensionality Reduction</center>"
   ]
  },
  {
   "cell_type": "markdown",
   "metadata": {},
   "source": [
    "### <b>Welcome to Lab 5a of Machine Learning 101 with Python.</b>\n",
    "<p><b>Machine Learning is a form of artificial intelligence (AI), where the system can \"learn\" without explicitly being coded</b></p>\n",
    "\n",
    "In this lab exercise, you will learn how to use <b>Dimensionality Reduction</b> in the form of <b>Feature Selection</b> and <b>Feature Extraction</b>.\n"
   ]
  },
  {
   "cell_type": "markdown",
   "metadata": {},
   "source": [
    "### Some Notebook Commands Reminders:\n",
    "<ul>\n",
    "    <li>Run a cell: CTRL + ENTER</li>\n",
    "    <li>Create a cell above a cell: a</li>\n",
    "    <li>Create a cell below a cell: b</li>\n",
    "    <li>Change a cell to Markdown: m</li>\n",
    "    \n",
    "    <li>Change a cell to code: y</li>\n",
    "</ul>\n",
    "\n",
    "<b> If you are interested in more keyboard shortcuts, go to Help -> Keyboard Shortcuts </b>"
   ]
  },
  {
   "cell_type": "markdown",
   "metadata": {},
   "source": [
    "<b> <i> Before starting the lab, please run the following code in order to access the solutions </i> </b>"
   ]
  },
  {
   "cell_type": "code",
   "execution_count": 1,
   "metadata": {},
   "outputs": [
    {
     "data": {
      "text/html": [
       "\n",
       "<style type=\"text/css\">\n",
       "    #ans:hover { background-color: black; }\n",
       "    #ans {padding: 6px; \n",
       "        background-color: white; \n",
       "        border: green 2px solid;\n",
       "        font-weight: bold}\n",
       "</style>\n"
      ],
      "text/plain": [
       "<IPython.core.display.HTML object>"
      ]
     },
     "execution_count": 1,
     "metadata": {},
     "output_type": "execute_result"
    }
   ],
   "source": [
    "from IPython.core.display import HTML\n",
    "HTML(\"\"\"\n",
    "<style type=\"text/css\">\n",
    "    #ans:hover { background-color: black; }\n",
    "    #ans {padding: 6px; \n",
    "        background-color: white; \n",
    "        border: green 2px solid;\n",
    "        font-weight: bold}\n",
    "</style>\n",
    "\"\"\") "
   ]
  },
  {
   "cell_type": "markdown",
   "metadata": {
    "collapsed": true
   },
   "source": [
    "# <u>Dimensionality Reduction: Feature Selection with VarianceThreshold and Univariance</u>"
   ]
  },
  {
   "cell_type": "markdown",
   "metadata": {},
   "source": [
    "We will first be looking at Feature Selection with <b>VarianceThreshold</b>. VarianceThreshold is a useful tool to removing features with a threshold variance. It is a simple and basic Feature Selection."
   ]
  },
  {
   "cell_type": "markdown",
   "metadata": {},
   "source": [
    "First import <b>VarianceThreshold</b> from sklearn.feature_selection"
   ]
  },
  {
   "cell_type": "code",
   "execution_count": 2,
   "metadata": {},
   "outputs": [],
   "source": [
    "from sklearn.feature_selection import VarianceThreshold"
   ]
  },
  {
   "cell_type": "markdown",
   "metadata": {},
   "source": [
    "Hover over the green box below for the answer\n",
    "<p id=\"ans\"> \n",
    "<font color = \"white\"> from sklearn.feature_selection import VarianceThreshold</font>\n",
    "</p>"
   ]
  },
  {
   "cell_type": "markdown",
   "metadata": {},
   "source": [
    "Now let's instantiate <b>VarianceThreshold</b> as a variable called <b>sel</b>"
   ]
  },
  {
   "cell_type": "code",
   "execution_count": 3,
   "metadata": {},
   "outputs": [],
   "source": [
    "sel = VarianceThreshold()"
   ]
  },
  {
   "cell_type": "markdown",
   "metadata": {},
   "source": [
    "Hover over the green box below for the answer\n",
    "<p id=\"ans\"> \n",
    "<font color = \"white\"> sel = VarianceThreshold()</font>\n",
    "</p>"
   ]
  },
  {
   "cell_type": "markdown",
   "metadata": {},
   "source": [
    "Now <b>VarianceThreshold</b> removes all <b>zero-variance features</b> by default. These features are any <b>constant value</b> features. Given the dataset below, let's try to run <b>fit_transform</b> function from <b>sel</b> on it."
   ]
  },
  {
   "cell_type": "code",
   "execution_count": 7,
   "metadata": {},
   "outputs": [
    {
     "data": {
      "text/plain": [
       "[[0, 2, 0, 3], [0, 1, 4, 3], [0, 1, 1, 3]]"
      ]
     },
     "execution_count": 7,
     "metadata": {},
     "output_type": "execute_result"
    }
   ],
   "source": [
    "dataset = [[0, 2, 0, 3], [0, 1, 4, 3], [0, 1, 1, 3]]\n",
    "dataset"
   ]
  },
  {
   "cell_type": "code",
   "execution_count": 10,
   "metadata": {},
   "outputs": [
    {
     "data": {
      "text/plain": [
       "array([[2, 0],\n",
       "       [1, 4],\n",
       "       [1, 1]])"
      ]
     },
     "execution_count": 10,
     "metadata": {},
     "output_type": "execute_result"
    }
   ],
   "source": [
    "sel.fit_transform(dataset)  #removes features with zero variance"
   ]
  },
  {
   "cell_type": "markdown",
   "metadata": {},
   "source": [
    "Hover over the green box below for the answer\n",
    "<p id=\"ans\"> \n",
    "<font color = \"white\"> sel.fit_transform(dataset)</font>\n",
    "</p>"
   ]
  },
  {
   "cell_type": "markdown",
   "metadata": {},
   "source": [
    "Now you should have only <b>three features</b> left. The last feature was removed since it had a <b>variance</b> of 0. You probably won't encounter constant value features very often, therefore you will want to keep a certain <b>threshold</b>. "
   ]
  },
  {
   "cell_type": "markdown",
   "metadata": {},
   "source": [
    "We can change the threshold by adding <b>threshold='threshold value'</b> inside the brackets during the instantiation of <b>VarianceThreshold</b>. Where <b>'threshold value'</b> is equal to p(1-p)\n",
    "Where <b>'p'</b> is your threshold % in <b>decimal format</b>."
   ]
  },
  {
   "cell_type": "markdown",
   "metadata": {},
   "source": [
    "So, for example if I wanted a threshold of <b>60%</b>, I would equate <b>threshold=0.6 * (1 - 0.6)</b>"
   ]
  },
  {
   "cell_type": "markdown",
   "metadata": {},
   "source": [
    "Now let's instantiate another <b>VarianceThreshold</b> but with a threshold of <b>60%</b>. We'll called it <b>sel60</b>."
   ]
  },
  {
   "cell_type": "code",
   "execution_count": 11,
   "metadata": {},
   "outputs": [],
   "source": [
    "sel60 = VarianceThreshold(threshold=(0.6*(1-0.6)))"
   ]
  },
  {
   "cell_type": "markdown",
   "metadata": {},
   "source": [
    "Hover over the green box below for the answer\n",
    "<p id=\"ans\"> \n",
    "<font color = \"white\"> sel60 = VarianceThreshold(threshold=(0.6 * (1 - 0.6)))</font>\n",
    "</p>"
   ]
  },
  {
   "cell_type": "markdown",
   "metadata": {},
   "source": [
    "Now let's <b>fit_transform</b> our dataset with <b>sel60</b>. Can you guess what will happen?"
   ]
  },
  {
   "cell_type": "code",
   "execution_count": 13,
   "metadata": {},
   "outputs": [
    {
     "data": {
      "text/plain": [
       "array([[0],\n",
       "       [4],\n",
       "       [1]])"
      ]
     },
     "execution_count": 13,
     "metadata": {},
     "output_type": "execute_result"
    }
   ],
   "source": [
    "sel60.fit_transform(dataset)   #which features have a variance of at least 60%? "
   ]
  },
  {
   "cell_type": "markdown",
   "metadata": {},
   "source": [
    "Hover over the green box below for the answer\n",
    "<p id=\"ans\"> \n",
    "<font color = \"white\"> sel60.fit_transform(dataset)</font>\n",
    "</p>"
   ]
  },
  {
   "cell_type": "markdown",
   "metadata": {},
   "source": [
    "You should only have <b>one feature</b> left. The third column feature was the only feature to have a variance of <b>at least 60%</b>."
   ]
  },
  {
   "cell_type": "markdown",
   "metadata": {},
   "source": [
    "Now let's look at <b>Univariance Feature Selection</b>."
   ]
  },
  {
   "cell_type": "markdown",
   "metadata": {},
   "source": [
    "We will need to import <b>SelectKBest</b> from <b>sklearn.feature_selection</b>, <b>chi2</b> from <b>sklearn.feature_selection</b>, <b>numpy</b> as <b>np</b>, and <b>pandas</b>."
   ]
  },
  {
   "cell_type": "code",
   "execution_count": 14,
   "metadata": {},
   "outputs": [],
   "source": [
    "from  sklearn.feature_selection import SelectKBest\n",
    "from sklearn.feature_selection import chi2\n",
    "import numpy as np\n",
    "import pandas"
   ]
  },
  {
   "cell_type": "markdown",
   "metadata": {},
   "source": [
    "Hover over the green box below for the answer\n",
    "<p id=\"ans\"> \n",
    "<font color = \"white\"> from sklearn.feature_selection import SelectKBest <br>\n",
    "from sklearn.feature_selection import chi2 <br>\n",
    "import numpy as np <br>\n",
    "import pandas</font>\n",
    "</p>"
   ]
  },
  {
   "cell_type": "markdown",
   "metadata": {},
   "source": [
    "Now we will be working with the <b>skulls dataset</b> once again. Using the <b>my_data</b> variable and <b>removeColumns</b> function, create a variable called <b>X</b> which has the <b>row column dropped</b>."
   ]
  },
  {
   "cell_type": "code",
   "execution_count": 15,
   "metadata": {},
   "outputs": [],
   "source": [
    "my_data = pandas.read_csv(\"https://vincentarelbundock.github.io/Rdatasets/csv/HSAUR/skulls.csv\", delimiter=\",\")"
   ]
  },
  {
   "cell_type": "code",
   "execution_count": 18,
   "metadata": {},
   "outputs": [],
   "source": [
    "# Remove the column containing the target name since it doesn't contain numeric values.\n",
    "# Also remove the column that contains the row number\n",
    "# axis=1 means we are removing columns instead of rows.\n",
    "# Function takes in a pandas array and column numbers and returns a numpy array without\n",
    "# the stated columns\n",
    "def removeColumns(pandasArray, *column):\n",
    "    return pandasArray.drop(pandasArray.columns[[column]], axis=1).values"
   ]
  },
  {
   "cell_type": "code",
   "execution_count": 19,
   "metadata": {},
   "outputs": [
    {
     "name": "stdout",
     "output_type": "stream",
     "text": [
      "(150, 6)\n"
     ]
    }
   ],
   "source": [
    "print(my_data.shape)\n",
    "X = removeColumns(my_data,0,1)"
   ]
  },
  {
   "cell_type": "markdown",
   "metadata": {},
   "source": [
    "Hover over the green box below for the answer\n",
    "<p id = \"ans\"> <font color = \"white\"> X = removeColumns(my_data, 0, 1) </font> </p>"
   ]
  },
  {
   "cell_type": "markdown",
   "metadata": {},
   "source": [
    "Now use the <b>target function</b> to obtain the <b>Response Vector</b> of <b>my_data</b> and store it as <b>y</b>"
   ]
  },
  {
   "cell_type": "code",
   "execution_count": 21,
   "metadata": {},
   "outputs": [],
   "source": [
    "def target(numpyArray, targetColumnIndex):\n",
    "    target_dict = dict()\n",
    "    target = list()\n",
    "    count = -1\n",
    "    for i in range(len(my_data.values)):\n",
    "        if my_data.values[i][targetColumnIndex] not in target_dict:\n",
    "            count += 1\n",
    "            target_dict[my_data.values[i][targetColumnIndex]] = count\n",
    "        target.append(target_dict[my_data.values[i][targetColumnIndex]])\n",
    "    return np.asarray(target)"
   ]
  },
  {
   "cell_type": "code",
   "execution_count": 23,
   "metadata": {},
   "outputs": [
    {
     "name": "stdout",
     "output_type": "stream",
     "text": [
      "[[131 138  89  49]\n",
      " [125 131  92  48]\n",
      " [131 132  99  50]\n",
      " [119 132  96  44]\n",
      " [136 143 100  54]\n",
      " [138 137  89  56]\n",
      " [139 130 108  48]\n",
      " [125 136  93  48]\n",
      " [131 134 102  51]\n",
      " [134 134  99  51]\n",
      " [129 138  95  50]\n",
      " [134 121  95  53]\n",
      " [126 129 109  51]\n",
      " [132 136 100  50]\n",
      " [141 140 100  51]\n",
      " [131 134  97  54]\n",
      " [135 137 103  50]\n",
      " [132 133  93  53]\n",
      " [139 136  96  50]\n",
      " [132 131 101  49]\n",
      " [126 133 102  51]\n",
      " [135 135 103  47]\n",
      " [134 124  93  53]\n",
      " [128 134 103  50]\n",
      " [130 130 104  49]\n",
      " [138 135 100  55]\n",
      " [128 132  93  53]\n",
      " [127 129 106  48]\n",
      " [131 136 114  54]\n",
      " [124 138 101  46]\n",
      " [124 138 101  48]\n",
      " [133 134  97  48]\n",
      " [138 134  98  45]\n",
      " [148 129 104  51]\n",
      " [126 124  95  45]\n",
      " [135 136  98  52]\n",
      " [132 145 100  54]\n",
      " [133 130 102  48]\n",
      " [131 134  96  50]\n",
      " [133 125  94  46]\n",
      " [133 136 103  53]\n",
      " [131 139  98  51]\n",
      " [131 136  99  56]\n",
      " [138 134  98  49]\n",
      " [130 136 104  53]\n",
      " [131 128  98  45]\n",
      " [138 129 107  53]\n",
      " [123 131 101  51]\n",
      " [130 129 105  47]\n",
      " [134 130  93  54]\n",
      " [137 136 106  49]\n",
      " [126 131 100  48]\n",
      " [135 136  97  52]\n",
      " [129 126  91  50]\n",
      " [134 139 101  49]\n",
      " [131 134  90  53]\n",
      " [132 130 104  50]\n",
      " [130 132  93  52]\n",
      " [135 132  98  54]\n",
      " [130 128 101  51]\n",
      " [137 141  96  52]\n",
      " [129 133  93  47]\n",
      " [132 138  87  48]\n",
      " [130 134 106  50]\n",
      " [134 134  96  45]\n",
      " [140 133  98  50]\n",
      " [138 138  95  47]\n",
      " [136 145  99  55]\n",
      " [136 131  92  46]\n",
      " [126 136  95  56]\n",
      " [137 129 100  53]\n",
      " [137 139  97  50]\n",
      " [136 126 101  50]\n",
      " [137 133  90  49]\n",
      " [129 142 104  47]\n",
      " [135 138 102  55]\n",
      " [129 135  92  50]\n",
      " [134 125  90  60]\n",
      " [138 134  96  51]\n",
      " [136 135  94  53]\n",
      " [132 130  91  52]\n",
      " [133 131 100  50]\n",
      " [138 137  94  51]\n",
      " [130 127  99  45]\n",
      " [136 133  91  49]\n",
      " [134 123  95  52]\n",
      " [136 137 101  54]\n",
      " [133 131  96  49]\n",
      " [138 133 100  55]\n",
      " [138 133  91  46]\n",
      " [137 134 107  54]\n",
      " [141 128  95  53]\n",
      " [141 130  87  49]\n",
      " [135 131  99  51]\n",
      " [133 120  91  46]\n",
      " [131 135  90  50]\n",
      " [140 137  94  60]\n",
      " [139 130  90  48]\n",
      " [140 134  90  51]\n",
      " [138 140 100  52]\n",
      " [132 133  90  53]\n",
      " [134 134  97  54]\n",
      " [135 135  99  50]\n",
      " [133 136  95  52]\n",
      " [136 130  99  55]\n",
      " [134 137  93  52]\n",
      " [131 141  99  55]\n",
      " [129 135  95  47]\n",
      " [136 128  93  54]\n",
      " [131 125  88  48]\n",
      " [139 130  94  53]\n",
      " [144 124  86  50]\n",
      " [141 131  97  53]\n",
      " [130 131  98  53]\n",
      " [133 128  92  51]\n",
      " [138 126  97  54]\n",
      " [131 142  95  53]\n",
      " [136 138  94  55]\n",
      " [132 136  92  52]\n",
      " [135 130 100  51]\n",
      " [137 123  91  50]\n",
      " [136 131  95  49]\n",
      " [128 126  91  57]\n",
      " [130 134  92  52]\n",
      " [138 127  86  47]\n",
      " [126 138 101  52]\n",
      " [136 138  97  58]\n",
      " [126 126  92  45]\n",
      " [132 132  99  55]\n",
      " [139 135  92  54]\n",
      " [143 120  95  51]\n",
      " [141 136 101  54]\n",
      " [135 135  95  56]\n",
      " [137 134  93  53]\n",
      " [142 135  96  52]\n",
      " [139 134  95  47]\n",
      " [138 125  99  51]\n",
      " [137 135  96  54]\n",
      " [133 125  92  50]\n",
      " [145 129  89  47]\n",
      " [138 136  92  46]\n",
      " [131 129  97  44]\n",
      " [143 126  88  54]\n",
      " [134 124  91  55]\n",
      " [132 127  97  52]\n",
      " [137 125  85  57]\n",
      " [129 128  81  52]\n",
      " [140 135 103  48]\n",
      " [147 129  87  48]\n",
      " [136 133  97  51]]\n",
      "[0 0 0 0 0 0 0 0 0 0 0 0 0 0 0 0 0 0 0 0 0 0 0 0 0 0 0 0 0 0 1 1 1 1 1 1 1\n",
      " 1 1 1 1 1 1 1 1 1 1 1 1 1 1 1 1 1 1 1 1 1 1 1 2 2 2 2 2 2 2 2 2 2 2 2 2 2\n",
      " 2 2 2 2 2 2 2 2 2 2 2 2 2 2 2 2 3 3 3 3 3 3 3 3 3 3 3 3 3 3 3 3 3 3 3 3 3\n",
      " 3 3 3 3 3 3 3 3 3 4 4 4 4 4 4 4 4 4 4 4 4 4 4 4 4 4 4 4 4 4 4 4 4 4 4 4 4\n",
      " 4 4]\n"
     ]
    }
   ],
   "source": [
    "y = target(my_data,1)\n",
    "print(X)\n",
    "print(y)"
   ]
  },
  {
   "cell_type": "markdown",
   "metadata": {},
   "source": [
    "Hover over the green box below for the answer\n",
    "<p id=\"ans\"><font color = \"white\">y = target(my_data, 1)</font>\n",
    "</p>"
   ]
  },
  {
   "cell_type": "markdown",
   "metadata": {},
   "source": [
    "Now take a look at <b>X's shape</b> before the feature selection"
   ]
  },
  {
   "cell_type": "code",
   "execution_count": 39,
   "metadata": {},
   "outputs": [
    {
     "name": "stdout",
     "output_type": "stream",
     "text": [
      "(150, 4)\n",
      "(150,)\n"
     ]
    }
   ],
   "source": [
    "print(X.shape)\n",
    "print(y.shape)"
   ]
  },
  {
   "cell_type": "markdown",
   "metadata": {},
   "source": [
    "Hover over the green box below for the answer\n",
    "<p id=\"ans\"><font color = \"white\">X.shape</font>\n",
    "</p>"
   ]
  },
  {
   "cell_type": "markdown",
   "metadata": {},
   "source": [
    "Now we will use the <b>fit_transform</b> function with parameters <b>X</b>, <b>y</b> of <b>SelectKBest</b> with parameters <b>chi2</b>, <b>k=3</b>. This will be stored as <b>X_new</b>.\n",
    "<br><br>\n",
    "<b>Note</b>: There is a VisibleDeprecationWarning, you can ignore it."
   ]
  },
  {
   "cell_type": "code",
   "execution_count": 25,
   "metadata": {},
   "outputs": [
    {
     "name": "stdout",
     "output_type": "stream",
     "text": [
      "[[131 138  89]\n",
      " [125 131  92]\n",
      " [131 132  99]\n",
      " [119 132  96]\n",
      " [136 143 100]\n",
      " [138 137  89]\n",
      " [139 130 108]\n",
      " [125 136  93]\n",
      " [131 134 102]\n",
      " [134 134  99]\n",
      " [129 138  95]\n",
      " [134 121  95]\n",
      " [126 129 109]\n",
      " [132 136 100]\n",
      " [141 140 100]\n",
      " [131 134  97]\n",
      " [135 137 103]\n",
      " [132 133  93]\n",
      " [139 136  96]\n",
      " [132 131 101]\n",
      " [126 133 102]\n",
      " [135 135 103]\n",
      " [134 124  93]\n",
      " [128 134 103]\n",
      " [130 130 104]\n",
      " [138 135 100]\n",
      " [128 132  93]\n",
      " [127 129 106]\n",
      " [131 136 114]\n",
      " [124 138 101]\n",
      " [124 138 101]\n",
      " [133 134  97]\n",
      " [138 134  98]\n",
      " [148 129 104]\n",
      " [126 124  95]\n",
      " [135 136  98]\n",
      " [132 145 100]\n",
      " [133 130 102]\n",
      " [131 134  96]\n",
      " [133 125  94]\n",
      " [133 136 103]\n",
      " [131 139  98]\n",
      " [131 136  99]\n",
      " [138 134  98]\n",
      " [130 136 104]\n",
      " [131 128  98]\n",
      " [138 129 107]\n",
      " [123 131 101]\n",
      " [130 129 105]\n",
      " [134 130  93]\n",
      " [137 136 106]\n",
      " [126 131 100]\n",
      " [135 136  97]\n",
      " [129 126  91]\n",
      " [134 139 101]\n",
      " [131 134  90]\n",
      " [132 130 104]\n",
      " [130 132  93]\n",
      " [135 132  98]\n",
      " [130 128 101]\n",
      " [137 141  96]\n",
      " [129 133  93]\n",
      " [132 138  87]\n",
      " [130 134 106]\n",
      " [134 134  96]\n",
      " [140 133  98]\n",
      " [138 138  95]\n",
      " [136 145  99]\n",
      " [136 131  92]\n",
      " [126 136  95]\n",
      " [137 129 100]\n",
      " [137 139  97]\n",
      " [136 126 101]\n",
      " [137 133  90]\n",
      " [129 142 104]\n",
      " [135 138 102]\n",
      " [129 135  92]\n",
      " [134 125  90]\n",
      " [138 134  96]\n",
      " [136 135  94]\n",
      " [132 130  91]\n",
      " [133 131 100]\n",
      " [138 137  94]\n",
      " [130 127  99]\n",
      " [136 133  91]\n",
      " [134 123  95]\n",
      " [136 137 101]\n",
      " [133 131  96]\n",
      " [138 133 100]\n",
      " [138 133  91]\n",
      " [137 134 107]\n",
      " [141 128  95]\n",
      " [141 130  87]\n",
      " [135 131  99]\n",
      " [133 120  91]\n",
      " [131 135  90]\n",
      " [140 137  94]\n",
      " [139 130  90]\n",
      " [140 134  90]\n",
      " [138 140 100]\n",
      " [132 133  90]\n",
      " [134 134  97]\n",
      " [135 135  99]\n",
      " [133 136  95]\n",
      " [136 130  99]\n",
      " [134 137  93]\n",
      " [131 141  99]\n",
      " [129 135  95]\n",
      " [136 128  93]\n",
      " [131 125  88]\n",
      " [139 130  94]\n",
      " [144 124  86]\n",
      " [141 131  97]\n",
      " [130 131  98]\n",
      " [133 128  92]\n",
      " [138 126  97]\n",
      " [131 142  95]\n",
      " [136 138  94]\n",
      " [132 136  92]\n",
      " [135 130 100]\n",
      " [137 123  91]\n",
      " [136 131  95]\n",
      " [128 126  91]\n",
      " [130 134  92]\n",
      " [138 127  86]\n",
      " [126 138 101]\n",
      " [136 138  97]\n",
      " [126 126  92]\n",
      " [132 132  99]\n",
      " [139 135  92]\n",
      " [143 120  95]\n",
      " [141 136 101]\n",
      " [135 135  95]\n",
      " [137 134  93]\n",
      " [142 135  96]\n",
      " [139 134  95]\n",
      " [138 125  99]\n",
      " [137 135  96]\n",
      " [133 125  92]\n",
      " [145 129  89]\n",
      " [138 136  92]\n",
      " [131 129  97]\n",
      " [143 126  88]\n",
      " [134 124  91]\n",
      " [132 127  97]\n",
      " [137 125  85]\n",
      " [129 128  81]\n",
      " [140 135 103]\n",
      " [147 129  87]\n",
      " [136 133  97]]\n"
     ]
    }
   ],
   "source": [
    "X_new = SelectKBest(chi2,k=3).fit_transform(X,y)   #k=3 means choose the three best features.\n",
    "print(X_new)"
   ]
  },
  {
   "cell_type": "markdown",
   "metadata": {},
   "source": [
    "Hover over the green box below for the answer\n",
    "<p id=\"ans\"><font color = \"white\">X_new = SelectKBest(chi2, k=3).fit_transform(X, y)</font>\n",
    "</p>"
   ]
  },
  {
   "cell_type": "markdown",
   "metadata": {},
   "source": [
    "Now let's check out the shape of <b>X_new</b>, it should have <b>one less</b> feature than before!"
   ]
  },
  {
   "cell_type": "code",
   "execution_count": 26,
   "metadata": {},
   "outputs": [
    {
     "name": "stdout",
     "output_type": "stream",
     "text": [
      "(150, 3)\n"
     ]
    }
   ],
   "source": [
    "print(X_new.shape)"
   ]
  },
  {
   "cell_type": "markdown",
   "metadata": {},
   "source": [
    "Hover over the green box below for the answer\n",
    "<p id=\"ans\"><font color = \"white\">X_new.shape</font>\n",
    "</p>"
   ]
  },
  {
   "cell_type": "markdown",
   "metadata": {
    "collapsed": true
   },
   "source": [
    "How <b>Univariance</b> works is that it selects <b>features</b> based off of <b>univariance statistical tests</b>. <b>chi2</b> is used as a <b>univariance scoring function</b> which returns <b>p</b> values. We specified <b>k=3</b> for the <b>3 best features</b> to be chosen. Now we will move onto <b>Feature Extraction!</b>"
   ]
  },
  {
   "cell_type": "markdown",
   "metadata": {
    "collapsed": true
   },
   "source": [
    "## <u>Feature Extraction with DictVectorizer and PCA</u>"
   ]
  },
  {
   "cell_type": "markdown",
   "metadata": {},
   "source": [
    "<b>DictVectorizer</b> is a very simple <b>Feature Extraction</b> class as it can be used to <b>convert feature arrays</b> in a <b>dict</b> to <b>NumPy/SciPy</b> representations."
   ]
  },
  {
   "cell_type": "markdown",
   "metadata": {},
   "source": [
    "First we will need to import <b>DictVectorizer</b> from <b>sklearn.feature_extraction</b>"
   ]
  },
  {
   "cell_type": "code",
   "execution_count": 27,
   "metadata": {},
   "outputs": [],
   "source": [
    "from sklearn.feature_extraction import DictVectorizer"
   ]
  },
  {
   "cell_type": "markdown",
   "metadata": {},
   "source": [
    "Hover over the green box below for the answer\n",
    "<p id=\"ans\"><font color = \"white\">from sklearn.feature_extraction import DictVectorizer</font>\n",
    "</p>"
   ]
  },
  {
   "cell_type": "markdown",
   "metadata": {},
   "source": [
    "We will use the following <b>dictionary</b> to be <b>converted</b>."
   ]
  },
  {
   "cell_type": "code",
   "execution_count": 28,
   "metadata": {},
   "outputs": [],
   "source": [
    "dataset = [\n",
    "...     {'Day': 'Monday', 'Temperature': 18},\n",
    "...     {'Day': 'Tuesday', 'Temperature': 13},\n",
    "...     {'Day': 'Wednesday', 'Temperature': 7},\n",
    "... ]"
   ]
  },
  {
   "cell_type": "markdown",
   "metadata": {},
   "source": [
    "Now create an <b>instance</b> of <b>DictVectorizer</b> called <b>vec</b>"
   ]
  },
  {
   "cell_type": "code",
   "execution_count": 29,
   "metadata": {},
   "outputs": [],
   "source": [
    "vec = DictVectorizer()"
   ]
  },
  {
   "cell_type": "markdown",
   "metadata": {},
   "source": [
    "Hover over the green box below for the answer\n",
    "<p id=\"ans\"><font color = \"white\">vec = DictVectorizer()</font>\n",
    "</p>"
   ]
  },
  {
   "cell_type": "markdown",
   "metadata": {},
   "source": [
    "Now we will use the <b>fit_transform</b> function of <b>vec</b> with the parameter <b>dataset</b> and use the <b>.toarray()</b> on the final product"
   ]
  },
  {
   "cell_type": "code",
   "execution_count": 30,
   "metadata": {},
   "outputs": [
    {
     "data": {
      "text/plain": [
       "array([[ 1.,  0.,  0., 18.],\n",
       "       [ 0.,  1.,  0., 13.],\n",
       "       [ 0.,  0.,  1.,  7.]])"
      ]
     },
     "execution_count": 30,
     "metadata": {},
     "output_type": "execute_result"
    }
   ],
   "source": [
    "vec.fit_transform(dataset).toarray()"
   ]
  },
  {
   "cell_type": "markdown",
   "metadata": {},
   "source": [
    "Hover over the green box below for the answer\n",
    "<p id=\"ans\"><font color = \"white\">vec.fit_transform(dataset).toarray()</font>\n",
    "</p>"
   ]
  },
  {
   "cell_type": "markdown",
   "metadata": {},
   "source": [
    "Now we can see that our <b>dataset</b> has been <b>converted</b> into an <b>array format</b> but pertaining its <b>data</b>. We can further review the <b>data</b> with the <b>get_feature_names</b> function of <b>vec</b>."
   ]
  },
  {
   "cell_type": "code",
   "execution_count": 31,
   "metadata": {},
   "outputs": [
    {
     "data": {
      "text/plain": [
       "['Day=Monday', 'Day=Tuesday', 'Day=Wednesday', 'Temperature']"
      ]
     },
     "execution_count": 31,
     "metadata": {},
     "output_type": "execute_result"
    }
   ],
   "source": [
    "vec.get_feature_names() "
   ]
  },
  {
   "cell_type": "markdown",
   "metadata": {},
   "source": [
    "Hover over the green box below for the answer\n",
    "<p id=\"ans\"><font color = \"white\">vec.get_feature_names()</font>\n",
    "</p>"
   ]
  },
  {
   "cell_type": "markdown",
   "metadata": {
    "collapsed": true
   },
   "source": [
    "Now we will use <b>PCA</b> to represent the <b>data</b> we used in feature selection(<b>X_new</b>) and project it's dimensions so make sure you have completed that portion! But first we must import <b>matplotlib.pyplot</b> as <b>plt</b>, <b>Axes3D</b> from <b>mpl_toolkits.mplot3d</b>, and <b>decomposition</b> from <b>sklearn</b>. <i>(And numpy as np if you haven't already!)</i> Make sure you include the <b>%matplotlib inline</b> to have the plot show up in your notebook!"
   ]
  },
  {
   "cell_type": "code",
   "execution_count": 33,
   "metadata": {},
   "outputs": [],
   "source": [
    "import matplotlib.pyplot as plt\n",
    "from mpl_toolkits.mplot3d import Axes3D\n",
    "from sklearn import decomposition\n",
    "%matplotlib inline\n",
    "import numpy as np"
   ]
  },
  {
   "cell_type": "markdown",
   "metadata": {},
   "source": [
    "Hover over the green box below for the answer\n",
    "<p id=\"ans\"><font color = \"white\">import matplotlib.pyplot as plt<br>\n",
    "from mpl_toolkits.mplot3d import Axes3D<br>\n",
    "from sklearn import decomposition<br>\n",
    "%matplotlib inline</font>\n",
    "</p>"
   ]
  },
  {
   "cell_type": "markdown",
   "metadata": {},
   "source": [
    "Now we will just create instances of <b>plt.figure</b> as <b>fig</b> and <b>Axes3D</b> as <b>ax</b> with the following dimensions. In this case we specificed dimensions where <b>elev=0</b> and <b>azim=0</b> to see the graph from where the <b>z plane = 0</b>. This will be useful to <b>visualize</b> the <b>difference</b> later on.\n",
    "\n",
    "<i> Note: You can change the elev and azim later on to see the graph in different ways. But it is suggested to keep it as is for now.</i>"
   ]
  },
  {
   "cell_type": "markdown",
   "metadata": {},
   "source": [
    "We will plot <b>X_new</b> against <b>y</b> with the <b>scatter</b> function of <b>ax</b>. The <b>scatter</b> function will include all of <b>X_new's column data</b> (each as a seperate parameter), <b>c=y</b>, and <b>cmap=plt.cm.spectral</b> as below."
   ]
  },
  {
   "cell_type": "markdown",
   "metadata": {},
   "source": [
    "<b>Note</b>: You can ignore the FutureWarning."
   ]
  },
  {
   "cell_type": "code",
   "execution_count": 34,
   "metadata": {},
   "outputs": [
    {
     "data": {
      "text/plain": [
       "<mpl_toolkits.mplot3d.art3d.Path3DCollection at 0x1a1e420358>"
      ]
     },
     "execution_count": 34,
     "metadata": {},
     "output_type": "execute_result"
    },
    {
     "data": {
      "image/png": "[encoded data removed]",
      "text/plain": [
       "<matplotlib.figure.Figure at 0x1a1e3c7710>"
      ]
     },
     "metadata": {},
     "output_type": "display_data"
    }
   ],
   "source": [
    "fig = plt.figure(1, figsize=(10, 8))\n",
    "ax = Axes3D(fig, rect=[0, 0, .95, 1], elev=0, azim=0)\n",
    "ax.scatter(X_new[:, 0], X_new[:, 1], X_new[:, 2], c=y, cmap=plt.cm.spectral)"
   ]
  },
  {
   "cell_type": "markdown",
   "metadata": {},
   "source": [
    "Now you know what a <b>3D representation</b> of that data looks like from a <b>z = 0 plane perspective</b>, we will create an instance of <b>decomposition.PCA</b> called <b>pca</b> with parameters of <b>n_components=2</b>."
   ]
  },
  {
   "cell_type": "code",
   "execution_count": 41,
   "metadata": {},
   "outputs": [],
   "source": [
    "pca = decomposition.PCA(n_components=2)"
   ]
  },
  {
   "cell_type": "markdown",
   "metadata": {},
   "source": [
    "Hover over the green box below for the answer\n",
    "<p id=\"ans\"><font color = \"white\">pca = decomposition.PCA(n_components=2)</font>\n",
    "</p>"
   ]
  },
  {
   "cell_type": "markdown",
   "metadata": {},
   "source": [
    "Now, like you have done in previous labs, we will <b>fit</b> the data with the <b>fit</b> function of <b>pca</b> with parameter <b>X_new</b>"
   ]
  },
  {
   "cell_type": "code",
   "execution_count": 43,
   "metadata": {},
   "outputs": [
    {
     "data": {
      "text/plain": [
       "PCA(copy=True, iterated_power='auto', n_components=2, random_state=None,\n",
       "  svd_solver='auto', tol=0.0, whiten=False)"
      ]
     },
     "execution_count": 43,
     "metadata": {},
     "output_type": "execute_result"
    }
   ],
   "source": [
    "pca.fit(X_new)"
   ]
  },
  {
   "cell_type": "markdown",
   "metadata": {},
   "source": [
    "Hover over the green box below for the answer\n",
    "<p id=\"ans\"><font color = \"white\">pca.fit(X_new)</font>\n",
    "</p>"
   ]
  },
  {
   "cell_type": "markdown",
   "metadata": {},
   "source": [
    "Use the <b>transform</b> function of <b>pca</b> with parameter <b>X_new</b> and equate it to a new variable called <b>PCA_X</b>. This will be the <b>projection</b> resulting in the change of <b>3 features</b> to <b>2</b>."
   ]
  },
  {
   "cell_type": "code",
   "execution_count": 44,
   "metadata": {},
   "outputs": [
    {
     "data": {
      "text/plain": [
       "array([[ -1.85499966,   0.83960884],\n",
       "       [ -1.20271162,   9.05943576],\n",
       "       [  2.69401353,   2.67348223],\n",
       "       [  4.48151578,  13.60797452],\n",
       "       [  7.61001452,  -6.79156923],\n",
       "       [ -4.78482475,  -4.94092578],\n",
       "       [  5.8575248 ,  -4.3185477 ],\n",
       "       [  2.23258656,   6.73280185],\n",
       "       [  6.08112965,   1.52041554],\n",
       "       [  2.73089326,  -0.89241937],\n",
       "       [  3.47540949,   2.10599141],\n",
       "       [ -7.28480339,   5.27658971],\n",
       "       [ 10.55224745,   7.61181045],\n",
       "       [  5.25458208,  -0.09475541],\n",
       "       [  4.3007938 ,  -9.89602406],\n",
       "       [  2.20998188,   1.94813309],\n",
       "       [  7.08193674,  -3.46906946],\n",
       "       [ -1.76166598,   1.84870339],\n",
       "       [ -0.2399475 ,  -5.98133407],\n",
       "       [  3.36774301,   2.06079148],\n",
       "       [  7.26149547,   6.41774269],\n",
       "       [  6.01750929,  -2.5726333 ],\n",
       "       [ -7.23662132,   4.10302249],\n",
       "       [  7.88290693,   4.10433747],\n",
       "       [  5.84324976,   4.03202266],\n",
       "       [  2.6672729 ,  -4.98546822],\n",
       "       [ -0.92381607,   5.85620873],\n",
       "       [  7.88704287,   6.97861916],\n",
       "       [ 16.43631175,  -0.40254273],\n",
       "       [  9.83336636,   6.04183943],\n",
       "       [  9.83336636,   6.04183943],\n",
       "       [  1.52495006,   0.16848946],\n",
       "       [  0.58660007,  -4.36616312],\n",
       "       [ -0.85425032, -11.53655191],\n",
       "       [ -2.94803494,  11.05050998],\n",
       "       [  2.67857525,  -2.59313384],\n",
       "       [ 10.04450561,  -4.12871814],\n",
       "       [  3.26724293,   1.53364424],\n",
       "       [  1.43575232,   2.0336766 ],\n",
       "       [ -5.58766213,   4.45908271],\n",
       "       [  7.23475483,  -1.24120776],\n",
       "       [  5.64528006,  -0.37850082],\n",
       "       [  4.82286843,   0.88060991],\n",
       "       [  0.58660007,  -4.36616312],\n",
       "       [  9.03653212,   1.34271418],\n",
       "       [ -0.20907092,   4.55189806],\n",
       "       [  4.89359743,  -2.8949643 ],\n",
       "       [  6.45038619,  10.0691878 ],\n",
       "       [  6.08526559,   4.39469723],\n",
       "       [ -4.04333897,   1.413714  ],\n",
       "       [  8.18737986,  -5.05712554],\n",
       "       [  4.64860891,   7.48526587],\n",
       "       [  1.90434569,  -2.50759033],\n",
       "       [ -6.00807343,   7.82678241],\n",
       "       [  6.94042099,  -3.30459679],\n",
       "       [ -3.20962501,   2.54693765],\n",
       "       [  5.15821795,   2.25237903],\n",
       "       [ -1.60884788,   4.0765651 ],\n",
       "       [  0.54972034,  -0.80026152],\n",
       "       [  2.45613365,   5.18508935],\n",
       "       [  3.10615294,  -6.44278085],\n",
       "       [ -0.73411825,   4.51816883],\n",
       "       [ -3.74597468,   0.12087404],\n",
       "       [  9.52056377,   2.06806332],\n",
       "       [  0.40820459,  -0.63578884],\n",
       "       [ -0.63064547,  -5.69758867],\n",
       "       [  0.39276631,  -5.90240491],\n",
       "       [  7.90021242,  -7.60246188],\n",
       "       [ -4.97038662,  -0.72860419],\n",
       "       [  3.43852976,   5.67189302],\n",
       "       [ -0.18349354,  -1.40633792],\n",
       "       [  2.81595505,  -5.6318882 ],\n",
       "       [ -0.66338925,   0.74259463],\n",
       "       [ -5.79693418,  -2.34377515],\n",
       "       [ 12.57233038,  -0.45677249],\n",
       "       [  6.83992091,  -3.83174403],\n",
       "       [ -0.44392035,   3.70727618],\n",
       "       [ -9.02709626,   3.91143493],\n",
       "       [ -0.96185904,  -4.1950761 ],\n",
       "       [ -1.29307261,  -2.69256353],\n",
       "       [ -4.90676626,   3.36444465],\n",
       "       [  2.25099755,   1.25651317],\n",
       "       [ -0.91367697,  -5.36864332],\n",
       "       [  0.37546082,   5.80439445],\n",
       "       [ -4.68018872,  -1.53949685],\n",
       "       [ -6.22037594,   4.38015355],\n",
       "       [  5.19096172,  -4.18780426],\n",
       "       [ -0.84592067,   1.59868721],\n",
       "       [  1.60284545,  -4.08903206],\n",
       "       [ -5.36522054,  -3.31914047],\n",
       "       [  7.89718197,  -4.24623289],\n",
       "       [ -5.95691867,  -4.08968955],\n",
       "       [-11.08632766,  -4.30177764],\n",
       "       [  0.79173617,  -0.43758694],\n",
       "       [-10.57141942,   6.95680364],\n",
       "       [ -2.67741128,   2.09871957],\n",
       "       [ -1.59870879,  -7.14828695],\n",
       "       [ -8.07860718,  -2.77876454],\n",
       "       [ -6.29226818,  -5.46145867],\n",
       "       [  5.32834153,  -7.22655862],\n",
       "       [ -4.08435464,   2.10533392],\n",
       "       [  1.18243415,  -0.72133235],\n",
       "       [  2.92059107,  -2.23045927],\n",
       "       [  1.0409184 ,  -0.55685968],\n",
       "       [ -0.08299346,  -0.87919068],\n",
       "       [ -0.31784289,  -1.72381256],\n",
       "       [  7.48393706,  -1.36048049],\n",
       "       [  1.87876831,   3.45064565],\n",
       "       [ -5.79279824,   0.53050654],\n",
       "       [ -9.54800764,   6.75198739],\n",
       "       [ -4.98168896,  -3.12093857],\n",
       "       [-16.08138729,  -4.19639109],\n",
       "       [ -2.81181839,  -5.60543081],\n",
       "       [  1.73008616,   4.09706563],\n",
       "       [ -5.53948007,   3.28551549],\n",
       "       [ -4.44533929,  -0.69487497],\n",
       "       [  4.91923257,  -1.46652454],\n",
       "       [  0.30356857,  -4.03721778],\n",
       "       [ -0.93925436,   0.58959266],\n",
       "       [  1.033752  ,  -0.07491237],\n",
       "       [-10.34484188,   2.05286214],\n",
       "       [ -2.64769795,  -0.98523472],\n",
       "       [ -5.66555753,   8.71660423],\n",
       "       [ -1.31864999,   3.26567245],\n",
       "       [-12.42965066,  -0.20211445],\n",
       "       [  9.14833454,   4.2621958 ],\n",
       "       [  2.62625723,  -4.2938483 ],\n",
       "       [ -4.20629615,  10.41070435],\n",
       "       [  2.35149763,   1.78366042],\n",
       "       [ -3.86907944,  -5.19094196],\n",
       "       [-10.89966029,  -2.28358853],\n",
       "       [  2.94616846,  -8.18869525],\n",
       "       [ -0.17632714,  -1.88828523],\n",
       "       [ -2.9420318 ,  -3.04862376],\n",
       "       [ -1.79970895,  -8.20258144],\n",
       "       [ -2.0786045 ,  -4.9993544 ],\n",
       "       [ -3.4290939 ,  -0.4177439 ],\n",
       "       [ -0.08712941,  -3.75347237],\n",
       "       [ -7.13612124,   4.63016973],\n",
       "       [-11.44014591,  -7.58393383],\n",
       "       [ -2.99434981,  -4.74933822],\n",
       "       [ -0.45108675,   4.18922349],\n",
       "       [-13.12598482,  -4.37409245],\n",
       "       [ -8.78508043,   4.27410951],\n",
       "       [ -1.85803011,   4.19583784],\n",
       "       [-13.92579176,   1.66968704],\n",
       "       [-12.68594153,   7.78578135],\n",
       "       [  4.30492975,  -7.02174237],\n",
       "       [-13.67363684,  -9.19249044],\n",
       "       [ -0.03481139,  -2.0527579 ]])"
      ]
     },
     "execution_count": 44,
     "metadata": {},
     "output_type": "execute_result"
    }
   ],
   "source": [
    "PCA_X = pca.transform(X_new)\n",
    "PCA_X"
   ]
  },
  {
   "cell_type": "markdown",
   "metadata": {},
   "source": [
    "Hover over the green box below for the answer\n",
    "<p id=\"ans\"><font color = \"white\">PCA_X = pca.transform(X_new)</font>\n",
    "</p>"
   ]
  },
  {
   "cell_type": "markdown",
   "metadata": {},
   "source": [
    "Now plot <b>PCA_X</b> with <b>y</b> using the <b>scatter</b> function of <b>ax</b> as we did before. All the <b>parameters</b> will be the <b>same</b> except you are using <b>PCA_X</b> and the <b>highest</b> index column you are going to is <b>PCA_X[:, 1]</b>. Make sure you include the <b>fig</b> and <b>ax</b> declaration to make the graph show up!"
   ]
  },
  {
   "cell_type": "code",
   "execution_count": 45,
   "metadata": {},
   "outputs": [
    {
     "data": {
      "text/plain": [
       "<mpl_toolkits.mplot3d.art3d.Path3DCollection at 0x1a216cf748>"
      ]
     },
     "execution_count": 45,
     "metadata": {},
     "output_type": "execute_result"
    },
    {
     "data": {
      "image/png": "[encoded data removed]",
      "text/plain": [
       "<matplotlib.figure.Figure at 0x1a20e38f28>"
      ]
     },
     "metadata": {},
     "output_type": "display_data"
    }
   ],
   "source": [
    "fig = plt.figure(1, figsize=(10, 8))\n",
    "ax = Axes3D(fig, rect=[0, 0, .95, 1], elev=0, azim=0)\n",
    "ax.scatter(PCA_X[:, 0], PCA_X[:, 1], c=y, cmap=plt.cm.spectral)   #only 2 features now!!!"
   ]
  },
  {
   "cell_type": "markdown",
   "metadata": {},
   "source": [
    "Hover over the green box below for the answer\n",
    "<p id=\"ans\"><font color = \"white\">fig = plt.figure(1, figsize=(10, 8))<br>\n",
    "ax = Axes3D(fig, rect=[0, 0, .95, 1], elev=0, azim=0)<br>\n",
    "ax.scatter(PCA_X[:, 0], PCA_X[:, 1], c=y, cmap=plt.cm.spectral)</font>\n",
    "</p>"
   ]
  },
  {
   "cell_type": "markdown",
   "metadata": {},
   "source": [
    "Now as you can see, given the <b>same view</b>, there are <b>no datapoints</b> except on the <b>z = 0 plane</b>. Rather the <b>datapoints</b> are on the <b>other axes</b> confirming a <b>projection</b> from <b>3 features</b> to <b>2</b>. You can even look at the <b>shape</b> of <b>PCA_X</b> to show <b>2 features</b>."
   ]
  },
  {
   "cell_type": "code",
   "execution_count": 46,
   "metadata": {},
   "outputs": [
    {
     "data": {
      "text/plain": [
       "(150, 2)"
      ]
     },
     "execution_count": 46,
     "metadata": {},
     "output_type": "execute_result"
    }
   ],
   "source": [
    "PCA_X.shape"
   ]
  },
  {
   "cell_type": "markdown",
   "metadata": {},
   "source": [
    "Hover over the green box below for the answer\n",
    "<p id=\"ans\"><font color = \"white\">PCA_X.shape</font>\n",
    "</p>"
   ]
  },
  {
   "cell_type": "markdown",
   "metadata": {},
   "source": [
    "You may wish to <b>change</b> the values of <b>elev</b> and <b>azim</b> if you would like to view the graph in <b>different perspectives</b>. <b>Elev</b> controls the <b>elevation</b> of the <b>z plane</b> and <b>azim</b> controls the <b>azimuth angle</b> in the <b>x,y plane</b>."
   ]
  },
  {
   "cell_type": "markdown",
   "metadata": {},
   "source": [
    "# <u>Overview</u>\n",
    "\n",
    "You have looked at <b>Feature Selection</b> with <b>VarianceThreshold</b> and <b>Univariance</b> to select the correct features. Then you have worked on <b>Feature Extraction</b> with <b>DictVectorizer</b> to convert dictionaries to the correct format of array. You have also used <b>PCA</b> to <b>visualize</b> your <b>data</b> from <b>Feature Selection</b> and <b>projected</b> it onto another <b>plane</b>."
   ]
  },
  {
   "cell_type": "markdown",
   "metadata": {},
   "source": [
    "## Want to learn more?\n",
    "\n",
    "IBM SPSS Modeler is a comprehensive analytics platform that has many machine learning algorithms. It has been designed to bring predictive intelligence to decisions made by individuals, by groups, by systems – by your enterprise as a whole. A free trial is available through this course, available here: [SPSS Modeler for Mac users](https://cocl.us/ML0101EN_SPSSMod_mac) and [SPSS Modeler for Windows users](https://cocl.us/ML0101EN_SPSSMod_win)\n",
    "\n",
    "Also, you can use Data Science Experience to run these notebooks faster with bigger datasets. Data Science Experience is IBM's leading cloud solution for data scientists, built by data scientists. With Jupyter notebooks, RStudio, Apache Spark and popular libraries pre-packaged in the cloud, DSX enables data scientists to collaborate on their projects without having to install anything. Join the fast-growing community of DSX users today with a free account at [Data Science Experience](https://cocl.us/ML0101EN_DSX)"
   ]
  },
  {
   "cell_type": "markdown",
   "metadata": {},
   "source": [
    "---\n",
    "# Additional Resources\n",
    "<br>\n",
    "Dimensionality Reduction: https://www.youtube.com/watch?v=q115CrtZ_3s\n",
    "<br><br>\n",
    "Feature Selection: http://scikit-learn.org/stable/modules/feature_selection.html\n",
    "<br><br>\n",
    "Feature Extraction:\n",
    "http://scikit-learn.org/stable/modules/feature_extraction.html"
   ]
  },
  {
   "cell_type": "markdown",
   "metadata": {},
   "source": [
    "<hr>\n",
    "Copyright &copy; 2017 [IBM Cognitive Class](https://cocl.us/ML0101_cclab). This notebook and its source code are released under the terms of the [MIT License](https://cognitiveclass.ai/mit-license/)."
   ]
  }
 ],
 "metadata": {
  "kernelspec": {
   "display_name": "Python 3",
   "language": "python",
   "name": "python3"
  },
  "language_info": {
   "codemirror_mode": {
    "name": "ipython",
    "version": 3
   },
   "file_extension": ".py",
   "mimetype": "text/x-python",
   "name": "python",
   "nbconvert_exporter": "python",
   "pygments_lexer": "ipython3",
   "version": "3.6.4"
  },
  "widgets": {
   "state": {},
   "version": "1.1.2"
  }
 },
 "nbformat": 4,
 "nbformat_minor": 1
}
